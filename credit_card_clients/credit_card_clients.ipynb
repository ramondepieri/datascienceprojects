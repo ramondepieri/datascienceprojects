{
 "cells": [
  {
   "cell_type": "markdown",
   "id": "5f4167c3-b65f-4cbd-87ad-2d0c60ab760a",
   "metadata": {
    "jp-MarkdownHeadingCollapsed": true
   },
   "source": [
    "# Jupyter notebook info\n",
    "\n",
    "The first thing we need to know about jupyter notebook is that there are two kinds of cells. This is a markdown cell.\n",
    "\n",
    "To change to the other kind of cell, called **code** cell enter in command mode, pressing ESC and type *y*, to back to markdown type *m*.\n",
    "\n",
    "To execute a cell content press SHIFT + ENTER"
   ]
  },
  {
   "cell_type": "markdown",
   "id": "1d1303de-0beb-4aa3-aca4-e70e888c8389",
   "metadata": {},
   "source": [
    "# Credit card clients project details\n",
    "\n",
    "## Introduction\n",
    "This is my first data science project, where I've begun organizing and applying the knowledge I've acquired. It's not a large-scale project, but the idea is to take baby steps, gradually increasing the difficulty level until tackling more complex projects.\n",
    "\n",
    "I should clarify that while I'm not the original author of this project (including the dataset and code), I'm following a data science course. However, throughout this project, I've made some adjustments and incorporated notes based on what I've learned.\n",
    "\n",
    "## Dataset\n",
    "\n",
    "The dataset for this project was sourced from the UCI Machine Learning Repository [http://archive.ics.uci.edu/ml], provided by the University of California, School of Information and Computer Science. It contains demographic and financial data from the latest 6 months and comprises around 30,000 samples.\n",
    "\n",
    "## Project goal\n",
    "\n",
    "To accomplish this project, we will explore the dataset, gaining important insights and understanding its contents. Additionally, we will clean the dataset using Pandas and apply various data science techniques.\n",
    "\n",
    "## Data science techniques\n",
    "\n",
    "Boolean masks, \n",
    "\n",
    "## Vocabulary\n",
    " - Dataset -> the whole data\n",
    " - Row definition -> what each row of dataset means\n",
    " - Labels -> column names from dataset\n",
    " - Data dictionary -> document that explains the definitions of column labels\n",
    " - Dataframe -> python object representing the dataset\n",
    " - Series -> python object representing the column from dataframe\n",
    "\n",
    "## Study case\n",
    "\n",
    "In this project, we will examine a case from a credit card company. They have provided us with a dataset containing the last 6 months of client accounts at the account level. In other words, there **is one row for each account**. (*It's essential to always define the row definition in a dataset*).\n",
    "\n",
    "The rows are labeled based on whether a client defaulted in the following month relative to the historical period.\n",
    "\n",
    "## Challenge\n",
    "\n",
    "Our goal is develop a model that can predict whether an account will default on its bills in the next month, based on demographic and financial data."
   ]
  },
  {
   "cell_type": "markdown",
   "id": "ba740b1c-fcaa-4fac-aa06-948475faa739",
   "metadata": {},
   "source": [
    "#### Step 1 - Load the dataset and getting shape info (rows and columns)"
   ]
  },
  {
   "cell_type": "code",
   "execution_count": 2,
   "id": "598c0779-4133-4df3-bc8e-726c3fd5ff00",
   "metadata": {},
   "outputs": [],
   "source": [
    "import pandas as pd"
   ]
  },
  {
   "cell_type": "code",
   "execution_count": 3,
   "id": "ac6e8472-81bf-472b-bc78-b007006c9841",
   "metadata": {},
   "outputs": [],
   "source": [
    "df = pd.read_excel('credit_card_clients.xls')"
   ]
  },
  {
   "cell_type": "code",
   "execution_count": 4,
   "id": "507a12b5-c0f1-4696-bb67-b3091d9437f2",
   "metadata": {},
   "outputs": [
    {
     "data": {
      "text/plain": [
       "(30000, 25)"
      ]
     },
     "execution_count": 4,
     "metadata": {},
     "output_type": "execute_result"
    }
   ],
   "source": [
    "df.shape"
   ]
  },
  {
   "cell_type": "code",
   "execution_count": 5,
   "id": "d01d9049-04eb-452f-9e89-65aeb2642e56",
   "metadata": {},
   "outputs": [
    {
     "name": "stdout",
     "output_type": "stream",
     "text": [
      "<class 'pandas.core.frame.DataFrame'>\n",
      "RangeIndex: 30000 entries, 0 to 29999\n",
      "Data columns (total 25 columns):\n",
      " #   Column                      Non-Null Count  Dtype \n",
      "---  ------                      --------------  ----- \n",
      " 0   ID                          30000 non-null  object\n",
      " 1   LIMIT_BAL                   30000 non-null  int64 \n",
      " 2   SEX                         30000 non-null  int64 \n",
      " 3   EDUCATION                   30000 non-null  int64 \n",
      " 4   MARRIAGE                    30000 non-null  int64 \n",
      " 5   AGE                         30000 non-null  int64 \n",
      " 6   PAY_1                       30000 non-null  object\n",
      " 7   PAY_2                       30000 non-null  int64 \n",
      " 8   PAY_3                       30000 non-null  int64 \n",
      " 9   PAY_4                       30000 non-null  int64 \n",
      " 10  PAY_5                       30000 non-null  int64 \n",
      " 11  PAY_6                       30000 non-null  int64 \n",
      " 12  BILL_AMT1                   30000 non-null  int64 \n",
      " 13  BILL_AMT2                   30000 non-null  int64 \n",
      " 14  BILL_AMT3                   30000 non-null  int64 \n",
      " 15  BILL_AMT4                   30000 non-null  int64 \n",
      " 16  BILL_AMT5                   30000 non-null  int64 \n",
      " 17  BILL_AMT6                   30000 non-null  int64 \n",
      " 18  PAY_AMT1                    30000 non-null  int64 \n",
      " 19  PAY_AMT2                    30000 non-null  int64 \n",
      " 20  PAY_AMT3                    30000 non-null  int64 \n",
      " 21  PAY_AMT4                    30000 non-null  int64 \n",
      " 22  PAY_AMT5                    30000 non-null  int64 \n",
      " 23  PAY_AMT6                    30000 non-null  int64 \n",
      " 24  default payment next month  30000 non-null  int64 \n",
      "dtypes: int64(23), object(2)\n",
      "memory usage: 5.7+ MB\n"
     ]
    }
   ],
   "source": [
    "df.info()"
   ]
  },
  {
   "cell_type": "code",
   "execution_count": 6,
   "id": "e34401ad-9768-4c27-9eaa-255924b3d6d4",
   "metadata": {},
   "outputs": [
    {
     "data": {
      "text/html": [
       "<div>\n",
       "<style scoped>\n",
       "    .dataframe tbody tr th:only-of-type {\n",
       "        vertical-align: middle;\n",
       "    }\n",
       "\n",
       "    .dataframe tbody tr th {\n",
       "        vertical-align: top;\n",
       "    }\n",
       "\n",
       "    .dataframe thead th {\n",
       "        text-align: right;\n",
       "    }\n",
       "</style>\n",
       "<table border=\"1\" class=\"dataframe\">\n",
       "  <thead>\n",
       "    <tr style=\"text-align: right;\">\n",
       "      <th></th>\n",
       "      <th>ID</th>\n",
       "      <th>LIMIT_BAL</th>\n",
       "      <th>SEX</th>\n",
       "      <th>EDUCATION</th>\n",
       "      <th>MARRIAGE</th>\n",
       "      <th>AGE</th>\n",
       "      <th>PAY_1</th>\n",
       "      <th>PAY_2</th>\n",
       "      <th>PAY_3</th>\n",
       "      <th>PAY_4</th>\n",
       "      <th>...</th>\n",
       "      <th>BILL_AMT4</th>\n",
       "      <th>BILL_AMT5</th>\n",
       "      <th>BILL_AMT6</th>\n",
       "      <th>PAY_AMT1</th>\n",
       "      <th>PAY_AMT2</th>\n",
       "      <th>PAY_AMT3</th>\n",
       "      <th>PAY_AMT4</th>\n",
       "      <th>PAY_AMT5</th>\n",
       "      <th>PAY_AMT6</th>\n",
       "      <th>default payment next month</th>\n",
       "    </tr>\n",
       "  </thead>\n",
       "  <tbody>\n",
       "    <tr>\n",
       "      <th>0</th>\n",
       "      <td>798fc410-45c1</td>\n",
       "      <td>20000</td>\n",
       "      <td>2</td>\n",
       "      <td>2</td>\n",
       "      <td>1</td>\n",
       "      <td>24</td>\n",
       "      <td>2</td>\n",
       "      <td>2</td>\n",
       "      <td>-1</td>\n",
       "      <td>-1</td>\n",
       "      <td>...</td>\n",
       "      <td>0</td>\n",
       "      <td>0</td>\n",
       "      <td>0</td>\n",
       "      <td>0</td>\n",
       "      <td>689</td>\n",
       "      <td>0</td>\n",
       "      <td>0</td>\n",
       "      <td>0</td>\n",
       "      <td>0</td>\n",
       "      <td>1</td>\n",
       "    </tr>\n",
       "    <tr>\n",
       "      <th>1</th>\n",
       "      <td>8a8c8f3b-8eb4</td>\n",
       "      <td>120000</td>\n",
       "      <td>2</td>\n",
       "      <td>2</td>\n",
       "      <td>2</td>\n",
       "      <td>26</td>\n",
       "      <td>-1</td>\n",
       "      <td>2</td>\n",
       "      <td>0</td>\n",
       "      <td>0</td>\n",
       "      <td>...</td>\n",
       "      <td>3272</td>\n",
       "      <td>3455</td>\n",
       "      <td>3261</td>\n",
       "      <td>0</td>\n",
       "      <td>1000</td>\n",
       "      <td>1000</td>\n",
       "      <td>1000</td>\n",
       "      <td>0</td>\n",
       "      <td>2000</td>\n",
       "      <td>1</td>\n",
       "    </tr>\n",
       "    <tr>\n",
       "      <th>2</th>\n",
       "      <td>85698822-43f5</td>\n",
       "      <td>90000</td>\n",
       "      <td>2</td>\n",
       "      <td>2</td>\n",
       "      <td>2</td>\n",
       "      <td>34</td>\n",
       "      <td>0</td>\n",
       "      <td>0</td>\n",
       "      <td>0</td>\n",
       "      <td>0</td>\n",
       "      <td>...</td>\n",
       "      <td>14331</td>\n",
       "      <td>14948</td>\n",
       "      <td>15549</td>\n",
       "      <td>1518</td>\n",
       "      <td>1500</td>\n",
       "      <td>1000</td>\n",
       "      <td>1000</td>\n",
       "      <td>1000</td>\n",
       "      <td>5000</td>\n",
       "      <td>0</td>\n",
       "    </tr>\n",
       "    <tr>\n",
       "      <th>3</th>\n",
       "      <td>0737c11b-be42</td>\n",
       "      <td>50000</td>\n",
       "      <td>2</td>\n",
       "      <td>2</td>\n",
       "      <td>1</td>\n",
       "      <td>37</td>\n",
       "      <td>0</td>\n",
       "      <td>0</td>\n",
       "      <td>0</td>\n",
       "      <td>0</td>\n",
       "      <td>...</td>\n",
       "      <td>28314</td>\n",
       "      <td>28959</td>\n",
       "      <td>29547</td>\n",
       "      <td>2000</td>\n",
       "      <td>2019</td>\n",
       "      <td>1200</td>\n",
       "      <td>1100</td>\n",
       "      <td>1069</td>\n",
       "      <td>1000</td>\n",
       "      <td>0</td>\n",
       "    </tr>\n",
       "    <tr>\n",
       "      <th>4</th>\n",
       "      <td>3b7f77cc-dbc0</td>\n",
       "      <td>50000</td>\n",
       "      <td>1</td>\n",
       "      <td>2</td>\n",
       "      <td>1</td>\n",
       "      <td>57</td>\n",
       "      <td>-1</td>\n",
       "      <td>0</td>\n",
       "      <td>-1</td>\n",
       "      <td>0</td>\n",
       "      <td>...</td>\n",
       "      <td>20940</td>\n",
       "      <td>19146</td>\n",
       "      <td>19131</td>\n",
       "      <td>2000</td>\n",
       "      <td>36681</td>\n",
       "      <td>10000</td>\n",
       "      <td>9000</td>\n",
       "      <td>689</td>\n",
       "      <td>679</td>\n",
       "      <td>0</td>\n",
       "    </tr>\n",
       "  </tbody>\n",
       "</table>\n",
       "<p>5 rows × 25 columns</p>\n",
       "</div>"
      ],
      "text/plain": [
       "              ID  LIMIT_BAL  SEX  EDUCATION  MARRIAGE  AGE PAY_1  PAY_2  \\\n",
       "0  798fc410-45c1      20000    2          2         1   24     2      2   \n",
       "1  8a8c8f3b-8eb4     120000    2          2         2   26    -1      2   \n",
       "2  85698822-43f5      90000    2          2         2   34     0      0   \n",
       "3  0737c11b-be42      50000    2          2         1   37     0      0   \n",
       "4  3b7f77cc-dbc0      50000    1          2         1   57    -1      0   \n",
       "\n",
       "   PAY_3  PAY_4  ...  BILL_AMT4  BILL_AMT5  BILL_AMT6  PAY_AMT1  PAY_AMT2  \\\n",
       "0     -1     -1  ...          0          0          0         0       689   \n",
       "1      0      0  ...       3272       3455       3261         0      1000   \n",
       "2      0      0  ...      14331      14948      15549      1518      1500   \n",
       "3      0      0  ...      28314      28959      29547      2000      2019   \n",
       "4     -1      0  ...      20940      19146      19131      2000     36681   \n",
       "\n",
       "   PAY_AMT3  PAY_AMT4  PAY_AMT5  PAY_AMT6  default payment next month  \n",
       "0         0         0         0         0                           1  \n",
       "1      1000      1000         0      2000                           1  \n",
       "2      1000      1000      1000      5000                           0  \n",
       "3      1200      1100      1069      1000                           0  \n",
       "4     10000      9000       689       679                           0  \n",
       "\n",
       "[5 rows x 25 columns]"
      ]
     },
     "execution_count": 6,
     "metadata": {},
     "output_type": "execute_result"
    }
   ],
   "source": [
    "df.head()"
   ]
  },
  {
   "cell_type": "markdown",
   "id": "056e344d-ff44-48e5-bae7-1c102c36ca89",
   "metadata": {},
   "source": [
    "Above we show the `shape` to get the rows and columns quantity\n",
    "\n",
    "after we executed `info` that brings to us each column and datatype\n",
    "\n",
    "And `head`, that show the first rows from the dataset"
   ]
  },
  {
   "cell_type": "markdown",
   "id": "d3c0961e-5c2c-48d0-8652-90e6a74a21cf",
   "metadata": {},
   "source": []
  },
  {
   "cell_type": "markdown",
   "id": "25a8d2d0-c364-4b32-a352-4ca507dc2a64",
   "metadata": {},
   "source": [
    "#### Step 2 - Exploring data\n",
    "\n",
    "Generally, there are two kinds of dataset sources: those **you participated** in constructing and those you **did not**.\n",
    "\n",
    "To aid in the exploration of data, we should utilize a **data dictionary**, which is a document that explains the definitions of column labels.\n",
    "\n",
    "If you created the dataset, it is your responsibility to generate the **data dictionary**.\n",
    "\n",
    "If you did not create the dataset, you will need to attempt to obtain the **data dictionary** whenever possible.\n",
    "\n",
    "#### Dataset dictionary\n",
    "This research employed a binary variable, default payment (**Yes = 1, No = 0**), as the response variable. This study reviewed the literature and used the following 23 variables as explanatory variables:\n",
    "\n",
    "**LIMIT_BAL**: Amount of the given credit (NT dollar): it includes both the individual consumer credit and his/her family (supplementary) credit.\n",
    "\n",
    "**SEX**: Gender (**1 = male; 2 = female**).\n",
    "\n",
    "**EDUCATION**: Education (**1 = graduate school; 2 = university; 3 = high school; 4 = others**).\n",
    "\n",
    "**MARRIAGE**: Marital status (**1 = married; 2 = single; 3 = others**).\n",
    "\n",
    "**AGE**: Age (year).\n",
    "\n",
    "**PAY_1 - PAY_6**: History of past payment. We tracked the past monthly payment records (from April to September, 2005) as follows: PAY_1 = the repayment status in September, 2005; PAY_2 = the repayment status in August, 2005; . . .;PAY_6 = the repayment status in April, 2005. The measurement scale for the repayment status is: **-1 = pay duly; 1 = payment delay for one month; 2 = payment delay for two months; . . .; 8 = payment delay for eight months; 9 = payment delay for nine months and above.**\n",
    "\n",
    "**BILL_AMT1 - BILL_AMT6**: Amount of bill statement (NT dollar). BILL_AMT1 = amount of bill statement in September, 2005; BILL_AMT2 = amount of bill statement in August, 2005; . . .; BILL_AMT6 = amount of bill statement in April, 2005. \n",
    "\n",
    "**PAY_AMT1 - PAY_AMT6**: Amount of previous payment (NT dollar). PAY_AMT1 = amount paid in September, 2005; PAY_AMT2 = amount paid in August, 2005; . . .;PAY_AMT6 = amount paid in April, 2005.\n",
    "\n",
    "#### Exploring data - basic steps\n",
    "\n",
    "We have the follow steps to exploring data:\n",
    "\n",
    "    1 - Knows how many columns has the dataset (can be: characteristics, answers or metadata)\n",
    "\n",
    "    2 - How many rows (samples)\n",
    "\n",
    "    3 - What kind of characteristics exists? What are categories and what are numerics?\n",
    "\n",
    "    4 - Which is the data apparence according with its charecteristics\n",
    "        - For example: interval between values on numerics charecteristics or frequency of class in category charecteristics\n",
    "        \n",
    "    5 - Is there null data?\n",
    "\n",
    "Let´s pratice it!\n",
    "\n",
    "##### Exploring data - Question 1 / Question 2"
   ]
  },
  {
   "cell_type": "code",
   "execution_count": 7,
   "id": "ad9ed2ab-75e9-4552-a701-ed8dc155a8fd",
   "metadata": {},
   "outputs": [
    {
     "data": {
      "text/plain": [
       "(30000, 25)"
      ]
     },
     "execution_count": 7,
     "metadata": {},
     "output_type": "execute_result"
    }
   ],
   "source": [
    "df.shape"
   ]
  },
  {
   "cell_type": "markdown",
   "id": "d5f3f391-5347-4b5f-b46f-8a33833494ce",
   "metadata": {},
   "source": [
    "Now let´s check if there is duplicate data on our dataset, to do that, we will use the id column, because is supposed to be unique"
   ]
  },
  {
   "cell_type": "code",
   "execution_count": 8,
   "id": "7050b492-fe0e-4744-952a-82d3d6c2a85b",
   "metadata": {},
   "outputs": [
    {
     "data": {
      "text/plain": [
       "Index(['ID', 'LIMIT_BAL', 'SEX', 'EDUCATION', 'MARRIAGE', 'AGE', 'PAY_1',\n",
       "       'PAY_2', 'PAY_3', 'PAY_4', 'PAY_5', 'PAY_6', 'BILL_AMT1', 'BILL_AMT2',\n",
       "       'BILL_AMT3', 'BILL_AMT4', 'BILL_AMT5', 'BILL_AMT6', 'PAY_AMT1',\n",
       "       'PAY_AMT2', 'PAY_AMT3', 'PAY_AMT4', 'PAY_AMT5', 'PAY_AMT6',\n",
       "       'default payment next month'],\n",
       "      dtype='object')"
      ]
     },
     "execution_count": 8,
     "metadata": {},
     "output_type": "execute_result"
    }
   ],
   "source": [
    "df.columns"
   ]
  },
  {
   "cell_type": "code",
   "execution_count": 10,
   "id": "4a2afee8-0f73-4eb9-b5dd-93c15ac7f9f9",
   "metadata": {},
   "outputs": [
    {
     "data": {
      "text/plain": [
       "29687"
      ]
     },
     "execution_count": 10,
     "metadata": {},
     "output_type": "execute_result"
    }
   ],
   "source": [
    "df['ID'].nunique()"
   ]
  },
  {
   "cell_type": "markdown",
   "id": "7fa735ef-01c1-4867-bb84-43c2c3a11887",
   "metadata": {},
   "source": [
    "Explaing the command above, so fist we select a pandas column and got a Series with: *df['ID']* that is: dataframe + [' + column_name ' +]\n",
    "\n",
    "So on, we apply the nunique() function\n",
    "\n",
    "We figure out our first data problem, nunique function shows 29687 while our dataset has 30000 rows, this means that we have duplicate data\n",
    "\n",
    "Now, we need to investigate it and answer some question like:\n",
    "- May does only one ID is duplicate many times?\n",
    "- How many IDs are duplicate?\n",
    "\n",
    "To answer, we will use the value_counts function. This is similar to count/group by from SQL"
   ]
  },
  {
   "cell_type": "code",
   "execution_count": 11,
   "id": "0867523e-d382-4c20-8bb7-4702c19cf729",
   "metadata": {},
   "outputs": [],
   "source": [
    "id_counts = df['ID'].value_counts()"
   ]
  },
  {
   "cell_type": "code",
   "execution_count": 12,
   "id": "d6e4e475-48aa-4aba-80bb-bc603a3011ab",
   "metadata": {},
   "outputs": [
    {
     "data": {
      "text/plain": [
       "ID\n",
       "ad23fe5c-7b09    2\n",
       "1fb3e3e6-a68d    2\n",
       "89f8f447-fca8    2\n",
       "7c9b7473-cc2f    2\n",
       "90330d02-82d9    2\n",
       "Name: count, dtype: int64"
      ]
     },
     "execution_count": 12,
     "metadata": {},
     "output_type": "execute_result"
    }
   ],
   "source": [
    "id_counts.head()"
   ]
  },
  {
   "cell_type": "markdown",
   "id": "7761bbc1-d0cd-4caa-b209-8d146145c87c",
   "metadata": {},
   "source": [
    "**head function returned the first 5 results. If needed you can modify the results quantity, passing head(number)**\n",
    "\n"
   ]
  },
  {
   "cell_type": "code",
   "execution_count": 14,
   "id": "d3ec731b-cb6b-435c-aea1-fd1eaac10891",
   "metadata": {},
   "outputs": [
    {
     "data": {
      "text/plain": [
       "ID\n",
       "ad23fe5c-7b09    2\n",
       "1fb3e3e6-a68d    2\n",
       "89f8f447-fca8    2\n",
       "7c9b7473-cc2f    2\n",
       "90330d02-82d9    2\n",
       "2a793ecf-05c6    2\n",
       "75938fec-e5ec    2\n",
       "7be61027-a493    2\n",
       "a3a5c0fc-fdd6    2\n",
       "b44b81b2-7789    2\n",
       "Name: count, dtype: int64"
      ]
     },
     "execution_count": 14,
     "metadata": {},
     "output_type": "execute_result"
    }
   ],
   "source": [
    "id_counts.head(10)"
   ]
  },
  {
   "cell_type": "markdown",
   "id": "4e4cfb43-0037-46ba-ae38-1910cd45bc5d",
   "metadata": {},
   "source": [
    "Now we will show the duplicated IDs grouping by values"
   ]
  },
  {
   "cell_type": "code",
   "execution_count": 15,
   "id": "e65f7ddb-ba4c-44e3-8a48-09823b725ec0",
   "metadata": {},
   "outputs": [
    {
     "data": {
      "text/plain": [
       "count\n",
       "1    29374\n",
       "2      313\n",
       "Name: count, dtype: int64"
      ]
     },
     "execution_count": 15,
     "metadata": {},
     "output_type": "execute_result"
    }
   ],
   "source": [
    "id_counts.value_counts()"
   ]
  },
  {
   "cell_type": "markdown",
   "id": "188d9ed4-64c7-4ff0-b1ca-fda371ac0db2",
   "metadata": {},
   "source": [
    "We can observe that there are 29,374 IDs with one occurrence each, and 313 IDs with two occurrences each. This means that 313 IDs appear twice, and no ID appears three times"
   ]
  },
  {
   "cell_type": "code",
   "execution_count": null,
   "id": "3cf6cd5e-af1c-4ed9-8c57-eecc43410d3f",
   "metadata": {},
   "outputs": [],
   "source": []
  }
 ],
 "metadata": {
  "kernelspec": {
   "display_name": "Python 3 (ipykernel)",
   "language": "python",
   "name": "python3"
  },
  "language_info": {
   "codemirror_mode": {
    "name": "ipython",
    "version": 3
   },
   "file_extension": ".py",
   "mimetype": "text/x-python",
   "name": "python",
   "nbconvert_exporter": "python",
   "pygments_lexer": "ipython3",
   "version": "3.11.7"
  }
 },
 "nbformat": 4,
 "nbformat_minor": 5
}
