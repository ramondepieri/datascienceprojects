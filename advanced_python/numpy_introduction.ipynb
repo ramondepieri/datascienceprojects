{
 "cells": [
  {
   "cell_type": "markdown",
   "id": "cbad38a3-0d85-45d7-afb7-faec1b331e00",
   "metadata": {},
   "source": [
    "# NumPy Arrays\n",
    "\n",
    "Essentially we can have two kinds of NumPy Arrays: Vector (1 dimension) and Matrix (2 dimension array)"
   ]
  },
  {
   "cell_type": "markdown",
   "id": "a17c9ff1-5a61-42c5-9bcd-75cb843bd7ce",
   "metadata": {},
   "source": [
    "Bellow how to cast a normal python list as numpy array"
   ]
  },
  {
   "cell_type": "code",
   "execution_count": 1,
   "id": "d4d4a319-bc70-471c-9c74-82364a2b31bd",
   "metadata": {},
   "outputs": [],
   "source": [
    "my_list = [1, 2, 3]"
   ]
  },
  {
   "cell_type": "code",
   "execution_count": 2,
   "id": "65204c6c-4e13-4608-b319-2a920b7b3670",
   "metadata": {},
   "outputs": [],
   "source": [
    "import numpy as np"
   ]
  },
  {
   "cell_type": "code",
   "execution_count": 4,
   "id": "4110ca0c-c0eb-4839-acdd-b778dd3f8f8a",
   "metadata": {},
   "outputs": [],
   "source": [
    "arr = np.array(my_list)"
   ]
  },
  {
   "cell_type": "code",
   "execution_count": 6,
   "id": "6e107c2b-f5e3-4ea8-92b9-89c5e84d249f",
   "metadata": {},
   "outputs": [
    {
     "data": {
      "text/plain": [
       "array([1, 2, 3])"
      ]
     },
     "execution_count": 6,
     "metadata": {},
     "output_type": "execute_result"
    }
   ],
   "source": [
    "arr # Vector"
   ]
  },
  {
   "cell_type": "code",
   "execution_count": 8,
   "id": "b2b2e4ea-9989-4123-bd78-76d673ce0d85",
   "metadata": {},
   "outputs": [],
   "source": [
    "my_mat = [[1, 2, 3], [4, 5, 6], [7, 8, 9]] # A list of list (It will become a matrix)"
   ]
  },
  {
   "cell_type": "code",
   "execution_count": 11,
   "id": "f8f74c69-6205-4c8f-a68d-e2d033934789",
   "metadata": {},
   "outputs": [
    {
     "data": {
      "text/plain": [
       "array([[1, 2, 3],\n",
       "       [4, 5, 6],\n",
       "       [7, 8, 9]])"
      ]
     },
     "execution_count": 11,
     "metadata": {},
     "output_type": "execute_result"
    }
   ],
   "source": [
    "np.array(my_mat) # 2 Dimensional array (matrix). Three rows and three columns"
   ]
  },
  {
   "cell_type": "markdown",
   "id": "d14f25ed-6c7c-4e59-a5d5-3641a66bbd4f",
   "metadata": {},
   "source": [
    "Now let see how we can generate numpy array dynamically"
   ]
  },
  {
   "cell_type": "code",
   "execution_count": 12,
   "id": "d88b2100-dd9f-4bd1-8113-32349511abe5",
   "metadata": {},
   "outputs": [
    {
     "data": {
      "text/plain": [
       "array([0, 1, 2, 3, 4, 5, 6, 7, 8, 9])"
      ]
     },
     "execution_count": 12,
     "metadata": {},
     "output_type": "execute_result"
    }
   ],
   "source": [
    "np.arange(0, 10) # similar to python range method"
   ]
  },
  {
   "cell_type": "code",
   "execution_count": 26,
   "id": "e20f6f2e-c443-43af-91a5-3d003f033351",
   "metadata": {},
   "outputs": [
    {
     "data": {
      "text/plain": [
       "array([ 0,  2,  4,  6,  8, 10])"
      ]
     },
     "execution_count": 26,
     "metadata": {},
     "output_type": "execute_result"
    }
   ],
   "source": [
    "np.arange(0, 11, 2) # with interval between numbers"
   ]
  },
  {
   "cell_type": "code",
   "execution_count": 27,
   "id": "46ac56ce-f730-4815-b045-eb4914f8ec92",
   "metadata": {},
   "outputs": [
    {
     "data": {
      "text/plain": [
       "array([0., 0., 0.])"
      ]
     },
     "execution_count": 27,
     "metadata": {},
     "output_type": "execute_result"
    }
   ],
   "source": [
    "np.zeros(3) # only 1 (vector)"
   ]
  },
  {
   "cell_type": "code",
   "execution_count": 28,
   "id": "631c0b00-8c74-4df4-a091-07dcaa7cf88d",
   "metadata": {},
   "outputs": [
    {
     "data": {
      "text/plain": [
       "array([[0., 0., 0.],\n",
       "       [0., 0., 0.]])"
      ]
     },
     "execution_count": 28,
     "metadata": {},
     "output_type": "execute_result"
    }
   ],
   "source": [
    "np.zeros((2, 3)) # only 0 (matrix)"
   ]
  },
  {
   "cell_type": "code",
   "execution_count": 29,
   "id": "b46c98c5-5418-4262-b5ea-2eb320d6d4ca",
   "metadata": {},
   "outputs": [
    {
     "data": {
      "text/plain": [
       "array([1., 1., 1., 1.])"
      ]
     },
     "execution_count": 29,
     "metadata": {},
     "output_type": "execute_result"
    }
   ],
   "source": [
    "np.ones(4) # only with numbers 1 (vector)"
   ]
  },
  {
   "cell_type": "code",
   "execution_count": 30,
   "id": "36c6aac1-37db-4419-b92a-d67b4df5bab9",
   "metadata": {},
   "outputs": [
    {
     "data": {
      "text/plain": [
       "array([[1., 1., 1., 1.],\n",
       "       [1., 1., 1., 1.],\n",
       "       [1., 1., 1., 1.]])"
      ]
     },
     "execution_count": 30,
     "metadata": {},
     "output_type": "execute_result"
    }
   ],
   "source": [
    "np.ones((3,4)) # only with numbers 1 (matrix)"
   ]
  },
  {
   "cell_type": "code",
   "execution_count": 21,
   "id": "7b903420-465b-41c9-bc11-b8b1f49de054",
   "metadata": {},
   "outputs": [
    {
     "data": {
      "text/plain": [
       "array([0.        , 0.55555556, 1.11111111, 1.66666667, 2.22222222,\n",
       "       2.77777778, 3.33333333, 3.88888889, 4.44444444, 5.        ])"
      ]
     },
     "execution_count": 21,
     "metadata": {},
     "output_type": "execute_result"
    }
   ],
   "source": [
    "np.linspace(0, 5, 10)"
   ]
  },
  {
   "cell_type": "code",
   "execution_count": 23,
   "id": "222cf8dc-a257-4a6d-a6cf-2a3d3722f690",
   "metadata": {},
   "outputs": [
    {
     "data": {
      "text/plain": [
       "array([[1., 0., 0., 0., 0., 0., 0., 0.],\n",
       "       [0., 1., 0., 0., 0., 0., 0., 0.],\n",
       "       [0., 0., 1., 0., 0., 0., 0., 0.],\n",
       "       [0., 0., 0., 1., 0., 0., 0., 0.],\n",
       "       [0., 0., 0., 0., 1., 0., 0., 0.],\n",
       "       [0., 0., 0., 0., 0., 1., 0., 0.],\n",
       "       [0., 0., 0., 0., 0., 0., 1., 0.],\n",
       "       [0., 0., 0., 0., 0., 0., 0., 1.]])"
      ]
     },
     "execution_count": 23,
     "metadata": {},
     "output_type": "execute_result"
    }
   ],
   "source": [
    "np.eye(8)"
   ]
  },
  {
   "cell_type": "code",
   "execution_count": 24,
   "id": "fac2b41a-9ede-4041-a7af-ff526c154c7f",
   "metadata": {},
   "outputs": [
    {
     "data": {
      "text/plain": [
       "array([0.19134994, 0.83234014, 0.10120731, 0.96804091, 0.08435245])"
      ]
     },
     "execution_count": 24,
     "metadata": {},
     "output_type": "execute_result"
    }
   ],
   "source": [
    "np.random.rand(5) # generate a random array (vector)"
   ]
  },
  {
   "cell_type": "code",
   "execution_count": 25,
   "id": "3f95d789-2a4d-484b-9bb1-c005c8e10e9a",
   "metadata": {},
   "outputs": [
    {
     "data": {
      "text/plain": [
       "array([[0.03037879, 0.72156118, 0.64484733, 0.00819878, 0.91862236],\n",
       "       [0.85736867, 0.67346992, 0.79608149, 0.80772617, 0.98177741],\n",
       "       [0.47960665, 0.10656554, 0.95196836, 0.26420361, 0.77269083],\n",
       "       [0.4967286 , 0.93342345, 0.36608359, 0.72979278, 0.98223891],\n",
       "       [0.37966108, 0.83812985, 0.87641354, 0.43474324, 0.32156478]])"
      ]
     },
     "execution_count": 25,
     "metadata": {},
     "output_type": "execute_result"
    }
   ],
   "source": [
    "np.random.rand(5, 5) # a random array (matrix)"
   ]
  },
  {
   "cell_type": "code",
   "execution_count": 32,
   "id": "e671392d-5dff-4d21-baf6-c4d8c06fe4e5",
   "metadata": {},
   "outputs": [
    {
     "data": {
      "text/plain": [
       "array([-0.35043238, -0.17517211])"
      ]
     },
     "execution_count": 32,
     "metadata": {},
     "output_type": "execute_result"
    }
   ],
   "source": [
    "np.random.randn(2) # two random numbers from standard normal distribution"
   ]
  },
  {
   "cell_type": "code",
   "execution_count": 33,
   "id": "a7dea101-05c1-4aad-a906-adbca3a1b77c",
   "metadata": {},
   "outputs": [
    {
     "data": {
      "text/plain": [
       "array([[-0.63333241,  0.00600796, -3.13845015, -0.33716774],\n",
       "       [ 0.35021199,  2.27954279, -0.90667409, -0.18915865],\n",
       "       [-1.4993026 , -1.05742287, -0.27536995, -0.43599981],\n",
       "       [ 0.92731217, -0.98895528, -0.64071409,  0.58917957]])"
      ]
     },
     "execution_count": 33,
     "metadata": {},
     "output_type": "execute_result"
    }
   ],
   "source": [
    "np.random.randn(4,4)"
   ]
  },
  {
   "cell_type": "code",
   "execution_count": 41,
   "id": "50fd91f6-1644-4453-9a88-72e8fea6c1ee",
   "metadata": {},
   "outputs": [
    {
     "data": {
      "text/plain": [
       "array([32, 63, 52, 69,  5])"
      ]
     },
     "execution_count": 41,
     "metadata": {},
     "output_type": "execute_result"
    }
   ],
   "source": [
    "np.random.randint(low=1, high=100, size=5)"
   ]
  },
  {
   "cell_type": "code",
   "execution_count": 55,
   "id": "ade1e58a-fac9-4295-b598-9788edb8a980",
   "metadata": {},
   "outputs": [],
   "source": [
    "arr = np.arange(25)"
   ]
  },
  {
   "cell_type": "code",
   "execution_count": 56,
   "id": "d339a63d-db36-4e8b-b229-afff65be51e3",
   "metadata": {},
   "outputs": [
    {
     "data": {
      "text/plain": [
       "array([ 0,  1,  2,  3,  4,  5,  6,  7,  8,  9, 10, 11, 12, 13, 14, 15, 16,\n",
       "       17, 18, 19, 20, 21, 22, 23, 24])"
      ]
     },
     "execution_count": 56,
     "metadata": {},
     "output_type": "execute_result"
    }
   ],
   "source": [
    "arr"
   ]
  },
  {
   "cell_type": "code",
   "execution_count": 57,
   "id": "49693c3a-5c1c-4634-8e52-5c8ac03757a7",
   "metadata": {},
   "outputs": [
    {
     "data": {
      "text/plain": [
       "array([[ 0,  1,  2,  3,  4],\n",
       "       [ 5,  6,  7,  8,  9],\n",
       "       [10, 11, 12, 13, 14],\n",
       "       [15, 16, 17, 18, 19],\n",
       "       [20, 21, 22, 23, 24]])"
      ]
     },
     "execution_count": 57,
     "metadata": {},
     "output_type": "execute_result"
    }
   ],
   "source": [
    "arr.reshape(5, 5)"
   ]
  },
  {
   "cell_type": "code",
   "execution_count": 58,
   "id": "9fa06ae1-bbca-4889-b220-22565f1bc92a",
   "metadata": {},
   "outputs": [],
   "source": [
    "ranarr = np.random.randint(0, 50, 10)"
   ]
  },
  {
   "cell_type": "code",
   "execution_count": 59,
   "id": "25e9c2e3-3a28-427e-ab1a-d3ac47a6f27e",
   "metadata": {},
   "outputs": [
    {
     "data": {
      "text/plain": [
       "array([43, 29,  3, 45,  9,  0, 17,  1, 21, 44])"
      ]
     },
     "execution_count": 59,
     "metadata": {},
     "output_type": "execute_result"
    }
   ],
   "source": [
    "ranarr"
   ]
  },
  {
   "cell_type": "code",
   "execution_count": 60,
   "id": "92d1cbc6-d3f2-4bb6-992d-944907a009c3",
   "metadata": {},
   "outputs": [
    {
     "data": {
      "text/plain": [
       "45"
      ]
     },
     "execution_count": 60,
     "metadata": {},
     "output_type": "execute_result"
    }
   ],
   "source": [
    "ranarr.max() # Return the max value"
   ]
  },
  {
   "cell_type": "code",
   "execution_count": 61,
   "id": "e18fa198-d072-4e61-8667-708a695693a4",
   "metadata": {},
   "outputs": [
    {
     "data": {
      "text/plain": [
       "0"
      ]
     },
     "execution_count": 61,
     "metadata": {},
     "output_type": "execute_result"
    }
   ],
   "source": [
    "ranarr.min() # Return the min value"
   ]
  },
  {
   "cell_type": "code",
   "execution_count": 62,
   "id": "274960e1-2fe1-461f-b53b-d9ec71f88341",
   "metadata": {},
   "outputs": [
    {
     "data": {
      "text/plain": [
       "3"
      ]
     },
     "execution_count": 62,
     "metadata": {},
     "output_type": "execute_result"
    }
   ],
   "source": [
    "ranarr.argmax() # Return max position (index)"
   ]
  },
  {
   "cell_type": "code",
   "execution_count": 65,
   "id": "bf0edec8-9f21-4840-9af4-a7fe6b5a447a",
   "metadata": {},
   "outputs": [
    {
     "data": {
      "text/plain": [
       "5"
      ]
     },
     "execution_count": 65,
     "metadata": {},
     "output_type": "execute_result"
    }
   ],
   "source": [
    "ranarr.argmin() # Return min position (index)"
   ]
  },
  {
   "cell_type": "code",
   "execution_count": 66,
   "id": "eae862d1-b6dc-4cec-879b-33aa34505338",
   "metadata": {},
   "outputs": [
    {
     "data": {
      "text/plain": [
       "(25,)"
      ]
     },
     "execution_count": 66,
     "metadata": {},
     "output_type": "execute_result"
    }
   ],
   "source": [
    "arr.shape"
   ]
  },
  {
   "cell_type": "code",
   "execution_count": 67,
   "id": "0618f4bb-7c40-4186-a8e3-ffdc5519d113",
   "metadata": {},
   "outputs": [
    {
     "data": {
      "text/plain": [
       "(10,)"
      ]
     },
     "execution_count": 67,
     "metadata": {},
     "output_type": "execute_result"
    }
   ],
   "source": [
    "ranarr.shape"
   ]
  },
  {
   "cell_type": "code",
   "execution_count": 68,
   "id": "b8e1f0b9-f621-4f37-b8b7-ff9e9edd42ab",
   "metadata": {},
   "outputs": [
    {
     "data": {
      "text/plain": [
       "dtype('int64')"
      ]
     },
     "execution_count": 68,
     "metadata": {},
     "output_type": "execute_result"
    }
   ],
   "source": [
    "arr.dtype"
   ]
  },
  {
   "cell_type": "markdown",
   "id": "145da798-daac-48d5-b379-098746481e30",
   "metadata": {},
   "source": [
    "# NumPy Exercises"
   ]
  },
  {
   "cell_type": "markdown",
   "id": "cfdbdee9-e481-4bac-9546-e62eb0b3d321",
   "metadata": {},
   "source": [
    "**Import NumPy as np**"
   ]
  },
  {
   "cell_type": "code",
   "execution_count": 1,
   "id": "c60ae185-6705-48d8-8cdc-d518dde94110",
   "metadata": {},
   "outputs": [],
   "source": [
    "import numpy as np"
   ]
  },
  {
   "cell_type": "markdown",
   "id": "29f0f5c5-d091-413a-b18f-e94d51e133aa",
   "metadata": {},
   "source": [
    "**Create an array of 10 zeros**"
   ]
  },
  {
   "cell_type": "code",
   "execution_count": 2,
   "id": "d28fbe70-d53f-4708-a033-8cb2a4d1895d",
   "metadata": {},
   "outputs": [
    {
     "name": "stdout",
     "output_type": "stream",
     "text": [
      "[0. 0. 0. 0. 0. 0. 0. 0. 0. 0.]\n"
     ]
    }
   ],
   "source": [
    "ten_zeros = np.zeros(10)\n",
    "ten_zeros"
   ]
  },
  {
   "cell_type": "markdown",
   "id": "6c2f4555-bcae-4630-82f3-ff398d3de159",
   "metadata": {},
   "source": [
    "**Create an array of 10 ones**"
   ]
  },
  {
   "cell_type": "code",
   "execution_count": 3,
   "id": "2f70eced-be1e-41cf-95f4-07356537ac68",
   "metadata": {},
   "outputs": [
    {
     "data": {
      "text/plain": [
       "array([1., 1., 1., 1., 1., 1., 1., 1., 1., 1.])"
      ]
     },
     "execution_count": 3,
     "metadata": {},
     "output_type": "execute_result"
    }
   ],
   "source": [
    "ten_ones = np.ones(10)\n",
    "ten_ones"
   ]
  },
  {
   "cell_type": "markdown",
   "id": "9c8ae06f-a88e-4e57-8c51-9f534051473a",
   "metadata": {},
   "source": [
    "**Create an array of 10 fives**"
   ]
  },
  {
   "cell_type": "code",
   "execution_count": 104,
   "id": "60489f0c-404a-409a-8d73-0d87484e13db",
   "metadata": {},
   "outputs": [
    {
     "data": {
      "text/plain": [
       "array([5., 5., 5., 5., 5., 5., 5., 5., 5., 5.])"
      ]
     },
     "execution_count": 104,
     "metadata": {},
     "output_type": "execute_result"
    }
   ],
   "source": [
    "ten_fives = np.ones(10) * 5\n",
    "ten_fives\n",
    "\n",
    "ten_fives = np.zeros(10) + 5\n",
    "ten_fives"
   ]
  },
  {
   "cell_type": "markdown",
   "id": "2229a78d-a8d6-42b8-9d03-d7bb26e67e32",
   "metadata": {},
   "source": [
    "**Create an array of the integers from 10 to 50**"
   ]
  },
  {
   "cell_type": "code",
   "execution_count": 16,
   "id": "ce842e16-5c58-4872-9856-f5f9df05e23c",
   "metadata": {},
   "outputs": [
    {
     "data": {
      "text/plain": [
       "array([10, 11, 12, 13, 14, 15, 16, 17, 18, 19, 20, 21, 22, 23, 24, 25, 26,\n",
       "       27, 28, 29, 30, 31, 32, 33, 34, 35, 36, 37, 38, 39, 40, 41, 42, 43,\n",
       "       44, 45, 46, 47, 48, 49, 50])"
      ]
     },
     "execution_count": 16,
     "metadata": {},
     "output_type": "execute_result"
    }
   ],
   "source": [
    "arr_10_to_50 = np.arange(10, 51)\n",
    "arr_10_to_50"
   ]
  },
  {
   "cell_type": "markdown",
   "id": "9a3418cd-e908-436f-8968-b3bfefbf7d7a",
   "metadata": {},
   "source": [
    "**Create an array of all the even integers from 10 to 50**"
   ]
  },
  {
   "cell_type": "code",
   "execution_count": 18,
   "id": "3e34ff21-bc43-48e1-832e-d54dca4f3618",
   "metadata": {},
   "outputs": [
    {
     "data": {
      "text/plain": [
       "array([10, 12, 14, 16, 18, 20, 22, 24, 26, 28, 30, 32, 34, 36, 38, 40, 42,\n",
       "       44, 46, 48, 50])"
      ]
     },
     "execution_count": 18,
     "metadata": {},
     "output_type": "execute_result"
    }
   ],
   "source": [
    "arr_10_to_50_even = np.arange(10, 51, 2)\n",
    "arr_10_to_50_even"
   ]
  },
  {
   "cell_type": "markdown",
   "id": "37ecf937-ab83-41c0-b880-fea526f261c2",
   "metadata": {},
   "source": [
    "**Create a 3x3 matrix with values ranging from 0 to 8**"
   ]
  },
  {
   "cell_type": "code",
   "execution_count": 22,
   "id": "1155d841-1c8c-43b9-9809-0fab96c38360",
   "metadata": {},
   "outputs": [
    {
     "data": {
      "text/plain": [
       "array([[0, 1, 2],\n",
       "       [3, 4, 5],\n",
       "       [6, 7, 8]])"
      ]
     },
     "execution_count": 22,
     "metadata": {},
     "output_type": "execute_result"
    }
   ],
   "source": [
    "arr = np.arange(0, 9).reshape(3,3)\n",
    "arr"
   ]
  },
  {
   "cell_type": "markdown",
   "id": "017f15f3-ead5-4961-a1a0-839e832a14e0",
   "metadata": {},
   "source": [
    "**Create a 3x3 identity matrix**"
   ]
  },
  {
   "cell_type": "code",
   "execution_count": 23,
   "id": "896f928d-4023-4262-a51b-b2100c6ba991",
   "metadata": {},
   "outputs": [
    {
     "data": {
      "text/plain": [
       "array([[1., 0., 0.],\n",
       "       [0., 1., 0.],\n",
       "       [0., 0., 1.]])"
      ]
     },
     "execution_count": 23,
     "metadata": {},
     "output_type": "execute_result"
    }
   ],
   "source": [
    "arr = np.eye(3)\n",
    "arr"
   ]
  },
  {
   "cell_type": "markdown",
   "id": "e30824fa-7ad9-4385-8639-35a3cb711d73",
   "metadata": {},
   "source": [
    "**Use NumPy to generate a random number between 0 and 1**"
   ]
  },
  {
   "cell_type": "code",
   "execution_count": 27,
   "id": "e820a8d5-eeb4-48ca-980d-4b36d6c0826d",
   "metadata": {},
   "outputs": [
    {
     "data": {
      "text/plain": [
       "array([0.30754781])"
      ]
     },
     "execution_count": 27,
     "metadata": {},
     "output_type": "execute_result"
    }
   ],
   "source": [
    "arr = np.random.rand(1)\n",
    "arr"
   ]
  },
  {
   "cell_type": "markdown",
   "id": "2566b7d6-f0fe-401a-bbde-a6161160b54f",
   "metadata": {},
   "source": [
    "**Generate an array of 25 random numbers sampled from a standard normal distribution**"
   ]
  },
  {
   "cell_type": "code",
   "execution_count": 28,
   "id": "9fff2190-1ee8-417a-9e8d-a16d20e7aa49",
   "metadata": {},
   "outputs": [
    {
     "data": {
      "text/plain": [
       "array([-0.30157164, -0.01077725,  0.6819595 ,  0.40707703, -0.55763971,\n",
       "        0.51448049,  1.36287842,  1.10585445, -0.82545051, -0.45689496,\n",
       "        0.10624748, -0.35133412,  1.44570156, -1.61965005, -1.05283058,\n",
       "        0.2280693 ,  0.20153825, -0.54289242,  1.35130672, -0.26287246,\n",
       "        0.2693123 , -1.22715405, -1.33593961,  1.04136484,  0.66085391])"
      ]
     },
     "execution_count": 28,
     "metadata": {},
     "output_type": "execute_result"
    }
   ],
   "source": [
    "arr = np.random.randn(25)\n",
    "arr"
   ]
  },
  {
   "cell_type": "markdown",
   "id": "9d27fb08-c377-419a-8be2-94ecf020bb9f",
   "metadata": {},
   "source": [
    "**Create the follwing matrix**\n",
    "\n",
    "array([[0.01, 0.02, 0.03, 0.04, 0.05, 0.06, 0.07, 0.08, 0.09, 0.1 ],\n",
    "       [0.11, 0.12, 0.13, 0.14, 0.15, 0.16, 0.17, 0.18, 0.19, 0.2 ],\n",
    "       [0.21, 0.22, 0.23, 0.24, 0.25, 0.26, 0.27, 0.28, 0.29, 0.3 ],\n",
    "       [0.31, 0.32, 0.33, 0.34, 0.35, 0.36, 0.37, 0.38, 0.39, 0.4 ],\n",
    "       [0.41, 0.42, 0.43, 0.44, 0.45, 0.46, 0.47, 0.48, 0.49, 0.5 ],\n",
    "       [0.51, 0.52, 0.53, 0.54, 0.55, 0.56, 0.57, 0.58, 0.59, 0.6 ],\n",
    "       [0.61, 0.62, 0.63, 0.64, 0.65, 0.66, 0.67, 0.68, 0.69, 0.7 ],\n",
    "       [0.71, 0.72, 0.73, 0.74, 0.75, 0.76, 0.77, 0.78, 0.79, 0.8 ],\n",
    "       [0.81, 0.82, 0.83, 0.84, 0.85, 0.86, 0.87, 0.88, 0.89, 0.9 ],\n",
    "       [0.91, 0.92, 0.93, 0.94, 0.95, 0.96, 0.97, 0.98, 0.99, 1.  ]])"
   ]
  },
  {
   "cell_type": "code",
   "execution_count": 41,
   "id": "28334079-ab54-4f7f-88e8-c1af55288830",
   "metadata": {},
   "outputs": [
    {
     "data": {
      "text/plain": [
       "array([[0.01, 0.02, 0.03, 0.04, 0.05, 0.06, 0.07, 0.08, 0.09, 0.1 ],\n",
       "       [0.11, 0.12, 0.13, 0.14, 0.15, 0.16, 0.17, 0.18, 0.19, 0.2 ],\n",
       "       [0.21, 0.22, 0.23, 0.24, 0.25, 0.26, 0.27, 0.28, 0.29, 0.3 ],\n",
       "       [0.31, 0.32, 0.33, 0.34, 0.35, 0.36, 0.37, 0.38, 0.39, 0.4 ],\n",
       "       [0.41, 0.42, 0.43, 0.44, 0.45, 0.46, 0.47, 0.48, 0.49, 0.5 ],\n",
       "       [0.51, 0.52, 0.53, 0.54, 0.55, 0.56, 0.57, 0.58, 0.59, 0.6 ],\n",
       "       [0.61, 0.62, 0.63, 0.64, 0.65, 0.66, 0.67, 0.68, 0.69, 0.7 ],\n",
       "       [0.71, 0.72, 0.73, 0.74, 0.75, 0.76, 0.77, 0.78, 0.79, 0.8 ],\n",
       "       [0.81, 0.82, 0.83, 0.84, 0.85, 0.86, 0.87, 0.88, 0.89, 0.9 ],\n",
       "       [0.91, 0.92, 0.93, 0.94, 0.95, 0.96, 0.97, 0.98, 0.99, 1.  ]])"
      ]
     },
     "execution_count": 41,
     "metadata": {},
     "output_type": "execute_result"
    }
   ],
   "source": [
    "arr_matrix = np.arange(0.01, 1.01, 0.01).reshape(10, 10)\n",
    "arr_matrix"
   ]
  },
  {
   "cell_type": "code",
   "execution_count": 106,
   "id": "69eefb29-466c-4302-94d7-8cd99e8bcffc",
   "metadata": {},
   "outputs": [
    {
     "data": {
      "text/plain": [
       "array([[0.01, 0.02, 0.03, 0.04, 0.05, 0.06, 0.07, 0.08, 0.09, 0.1 ],\n",
       "       [0.11, 0.12, 0.13, 0.14, 0.15, 0.16, 0.17, 0.18, 0.19, 0.2 ],\n",
       "       [0.21, 0.22, 0.23, 0.24, 0.25, 0.26, 0.27, 0.28, 0.29, 0.3 ],\n",
       "       [0.31, 0.32, 0.33, 0.34, 0.35, 0.36, 0.37, 0.38, 0.39, 0.4 ],\n",
       "       [0.41, 0.42, 0.43, 0.44, 0.45, 0.46, 0.47, 0.48, 0.49, 0.5 ],\n",
       "       [0.51, 0.52, 0.53, 0.54, 0.55, 0.56, 0.57, 0.58, 0.59, 0.6 ],\n",
       "       [0.61, 0.62, 0.63, 0.64, 0.65, 0.66, 0.67, 0.68, 0.69, 0.7 ],\n",
       "       [0.71, 0.72, 0.73, 0.74, 0.75, 0.76, 0.77, 0.78, 0.79, 0.8 ],\n",
       "       [0.81, 0.82, 0.83, 0.84, 0.85, 0.86, 0.87, 0.88, 0.89, 0.9 ],\n",
       "       [0.91, 0.92, 0.93, 0.94, 0.95, 0.96, 0.97, 0.98, 0.99, 1.  ]])"
      ]
     },
     "execution_count": 106,
     "metadata": {},
     "output_type": "execute_result"
    }
   ],
   "source": [
    "arr_matrix = np.arange(1, 101).reshape(10, 10)/100\n",
    "arr_matrix"
   ]
  },
  {
   "cell_type": "code",
   "execution_count": 108,
   "id": "a4ceb370-dfb2-4704-9727-d75ed2c7952b",
   "metadata": {},
   "outputs": [
    {
     "data": {
      "text/plain": [
       "array([[0.01, 0.02, 0.03, 0.04, 0.05, 0.06, 0.07, 0.08, 0.09, 0.1 ],\n",
       "       [0.11, 0.12, 0.13, 0.14, 0.15, 0.16, 0.17, 0.18, 0.19, 0.2 ],\n",
       "       [0.21, 0.22, 0.23, 0.24, 0.25, 0.26, 0.27, 0.28, 0.29, 0.3 ],\n",
       "       [0.31, 0.32, 0.33, 0.34, 0.35, 0.36, 0.37, 0.38, 0.39, 0.4 ],\n",
       "       [0.41, 0.42, 0.43, 0.44, 0.45, 0.46, 0.47, 0.48, 0.49, 0.5 ],\n",
       "       [0.51, 0.52, 0.53, 0.54, 0.55, 0.56, 0.57, 0.58, 0.59, 0.6 ],\n",
       "       [0.61, 0.62, 0.63, 0.64, 0.65, 0.66, 0.67, 0.68, 0.69, 0.7 ],\n",
       "       [0.71, 0.72, 0.73, 0.74, 0.75, 0.76, 0.77, 0.78, 0.79, 0.8 ],\n",
       "       [0.81, 0.82, 0.83, 0.84, 0.85, 0.86, 0.87, 0.88, 0.89, 0.9 ],\n",
       "       [0.91, 0.92, 0.93, 0.94, 0.95, 0.96, 0.97, 0.98, 0.99, 1.  ]])"
      ]
     },
     "execution_count": 108,
     "metadata": {},
     "output_type": "execute_result"
    }
   ],
   "source": [
    "arr_matrix = np.linspace(0.01, 1, 100).reshape(10,10)\n",
    "arr_matrix"
   ]
  },
  {
   "cell_type": "markdown",
   "id": "ab83734a-fb20-454a-af6a-602ab4b6ec68",
   "metadata": {},
   "source": [
    "**Create an array of 20 linearly spaced points between 0 and 1**"
   ]
  },
  {
   "cell_type": "code",
   "execution_count": 113,
   "id": "0f0feb92-ac1c-459f-a1f1-6f05dbd12222",
   "metadata": {},
   "outputs": [
    {
     "data": {
      "text/plain": [
       "array([0.        , 0.05263158, 0.10526316, 0.15789474, 0.21052632,\n",
       "       0.26315789, 0.31578947, 0.36842105, 0.42105263, 0.47368421,\n",
       "       0.52631579, 0.57894737, 0.63157895, 0.68421053, 0.73684211,\n",
       "       0.78947368, 0.84210526, 0.89473684, 0.94736842, 1.        ])"
      ]
     },
     "execution_count": 113,
     "metadata": {},
     "output_type": "execute_result"
    }
   ],
   "source": [
    "arr = np.linspace(0, 1, 20)\n",
    "arr"
   ]
  },
  {
   "cell_type": "markdown",
   "id": "bdfd10d7-bd00-4732-8f0c-602e18df66e0",
   "metadata": {},
   "source": [
    "# Numpy Indexing and Selection\n",
    "\n",
    "Now you will be given a few matrices, and be asked to replicate the resulting matrix outputs"
   ]
  },
  {
   "cell_type": "code",
   "execution_count": 61,
   "id": "311b4a69-4daf-43fe-a1dd-b7e6ec462b95",
   "metadata": {},
   "outputs": [
    {
     "data": {
      "text/plain": [
       "array([[ 1,  2,  3,  4,  5],\n",
       "       [ 6,  7,  8,  9, 10],\n",
       "       [11, 12, 13, 14, 15],\n",
       "       [16, 17, 18, 19, 20],\n",
       "       [21, 22, 23, 24, 25]])"
      ]
     },
     "execution_count": 61,
     "metadata": {},
     "output_type": "execute_result"
    }
   ],
   "source": [
    "matrix = np.arange(1, 26).reshape(5,5)\n",
    "matrix"
   ]
  },
  {
   "cell_type": "markdown",
   "id": "c9932af7-e3a6-4b16-9dbe-34b638c81fff",
   "metadata": {},
   "source": [
    "**Reproduces the output below**\n",
    "```\n",
    "array([[12, 13, 14, 15],\n",
    "       [17, 18, 19, 20],\n",
    "       [22, 23, 24, 25]])\n",
    "```"
   ]
  },
  {
   "cell_type": "code",
   "execution_count": 115,
   "id": "73a3a221-781c-4f48-a66b-0dd10a6bfbb2",
   "metadata": {},
   "outputs": [
    {
     "data": {
      "text/plain": [
       "array([[12, 13, 14, 15],\n",
       "       [17, 18, 19, 20],\n",
       "       [22, 23, 24, 25]])"
      ]
     },
     "execution_count": 115,
     "metadata": {},
     "output_type": "execute_result"
    }
   ],
   "source": [
    "matrix[2:,1:]"
   ]
  },
  {
   "cell_type": "markdown",
   "id": "4fa3d750-4174-4316-b75a-d58e7b0291fc",
   "metadata": {},
   "source": [
    "**Reproduces the output below**\n",
    "```\n",
    "20\n",
    "```"
   ]
  },
  {
   "cell_type": "code",
   "execution_count": 77,
   "id": "75012127-3475-4cc3-8a50-676b01710831",
   "metadata": {},
   "outputs": [
    {
     "data": {
      "text/plain": [
       "20"
      ]
     },
     "execution_count": 77,
     "metadata": {},
     "output_type": "execute_result"
    }
   ],
   "source": [
    "matrix[3][4]"
   ]
  },
  {
   "cell_type": "markdown",
   "id": "3f86e55c-d4d5-4735-b82b-d91579048b29",
   "metadata": {},
   "source": [
    "**Reproduces the output below**\n",
    "```\n",
    "array([[ 2],\n",
    "      [ 7],\n",
    "      [12]])\n",
    "```"
   ]
  },
  {
   "cell_type": "code",
   "execution_count": 119,
   "id": "24cabe5b-4a78-4989-9e19-4d64592cf7cf",
   "metadata": {},
   "outputs": [
    {
     "data": {
      "text/plain": [
       "array([[ 2],\n",
       "       [ 7],\n",
       "       [12]])"
      ]
     },
     "execution_count": 119,
     "metadata": {},
     "output_type": "execute_result"
    }
   ],
   "source": [
    "matrix[0:3,1:2]"
   ]
  },
  {
   "cell_type": "markdown",
   "id": "0dd9756e-2d3e-440a-ac12-18d819819186",
   "metadata": {},
   "source": [
    "**Reproduces the output below**\n",
    "```\n",
    "array([21, 22, 23, 24, 25])\n",
    "```"
   ]
  },
  {
   "cell_type": "code",
   "execution_count": 88,
   "id": "d11242dd-237d-457f-9809-bd2688ef2123",
   "metadata": {},
   "outputs": [
    {
     "data": {
      "text/plain": [
       "array([21, 22, 23, 24, 25])"
      ]
     },
     "execution_count": 88,
     "metadata": {},
     "output_type": "execute_result"
    }
   ],
   "source": [
    "matrix[4]"
   ]
  },
  {
   "cell_type": "markdown",
   "id": "6c9af0e3-b55d-49bf-8960-70f1c599caae",
   "metadata": {},
   "source": [
    "**Reproduces the output below**\n",
    "```\n",
    "array(\n",
    "[[16, 17, 18, 19, 20],\n",
    "[21, 22, 23, 24, 25]])\n",
    "```"
   ]
  },
  {
   "cell_type": "code",
   "execution_count": 95,
   "id": "beb64a7d-7cd2-486f-8f25-14bb533f54fd",
   "metadata": {},
   "outputs": [
    {
     "data": {
      "text/plain": [
       "array([[16, 17, 18, 19, 20],\n",
       "       [21, 22, 23, 24, 25]])"
      ]
     },
     "execution_count": 95,
     "metadata": {},
     "output_type": "execute_result"
    }
   ],
   "source": [
    "matrix[3:5]"
   ]
  },
  {
   "cell_type": "markdown",
   "id": "0502b169-f480-4c0e-9998-7c0ebd0e8306",
   "metadata": {},
   "source": [
    "# Now do the following\n",
    "\n",
    "Get the sum of all values in matrix\n",
    "\n",
    "325"
   ]
  },
  {
   "cell_type": "code",
   "execution_count": 96,
   "id": "e8239ad1-7c5f-4a27-8520-9e196ce9bf5d",
   "metadata": {},
   "outputs": [
    {
     "data": {
      "text/plain": [
       "325"
      ]
     },
     "execution_count": 96,
     "metadata": {},
     "output_type": "execute_result"
    }
   ],
   "source": [
    "matrix.sum()"
   ]
  },
  {
   "cell_type": "markdown",
   "id": "12d7295a-2790-4d42-a033-600dcfe08760",
   "metadata": {},
   "source": [
    "Get the standard deviation of the values in mat\n",
    "\n",
    "7.211102550927978"
   ]
  },
  {
   "cell_type": "code",
   "execution_count": 98,
   "id": "b91f850d-3828-4f99-9e37-b9c52cff6612",
   "metadata": {},
   "outputs": [
    {
     "data": {
      "text/plain": [
       "7.211102550927978"
      ]
     },
     "execution_count": 98,
     "metadata": {},
     "output_type": "execute_result"
    }
   ],
   "source": [
    "matrix.std()"
   ]
  },
  {
   "cell_type": "markdown",
   "id": "0c299d9f-d4a4-45c8-ac0c-a40ce14bffc0",
   "metadata": {},
   "source": [
    "Get the sum of all the columns in mat\n",
    "\n",
    "array([55, 60, 65, 70, 75])"
   ]
  },
  {
   "cell_type": "code",
   "execution_count": 120,
   "id": "47f4f53f-774b-4a66-8e68-fdabd2333393",
   "metadata": {},
   "outputs": [
    {
     "data": {
      "text/plain": [
       "array([55, 60, 65, 70, 75])"
      ]
     },
     "execution_count": 120,
     "metadata": {},
     "output_type": "execute_result"
    }
   ],
   "source": [
    "matrix.sum(axis=0)"
   ]
  },
  {
   "cell_type": "code",
   "execution_count": null,
   "id": "4fd03cbb-b8a2-4836-a0f0-59c0179514d8",
   "metadata": {},
   "outputs": [],
   "source": []
  }
 ],
 "metadata": {
  "kernelspec": {
   "display_name": "Python 3 (ipykernel)",
   "language": "python",
   "name": "python3"
  },
  "language_info": {
   "codemirror_mode": {
    "name": "ipython",
    "version": 3
   },
   "file_extension": ".py",
   "mimetype": "text/x-python",
   "name": "python",
   "nbconvert_exporter": "python",
   "pygments_lexer": "ipython3",
   "version": "3.11.7"
  }
 },
 "nbformat": 4,
 "nbformat_minor": 5
}
